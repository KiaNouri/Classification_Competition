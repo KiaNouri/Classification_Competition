{
  "nbformat": 4,
  "nbformat_minor": 0,
  "metadata": {
    "colab": {
      "provenance": []
    },
    "kernelspec": {
      "name": "python3",
      "display_name": "Python 3"
    },
    "language_info": {
      "name": "python"
    }
  },
  "cells": [
    {
      "cell_type": "code",
      "execution_count": 124,
      "metadata": {
        "colab": {
          "base_uri": "https://localhost:8080/"
        },
        "id": "oOpFYC6pm6Y8",
        "outputId": "510af698-f5aa-4b35-9360-d544740b4fe3"
      },
      "outputs": [
        {
          "output_type": "stream",
          "name": "stdout",
          "text": [
            "Requirement already satisfied: catboost in /usr/local/lib/python3.10/dist-packages (1.2.5)\n",
            "Requirement already satisfied: graphviz in /usr/local/lib/python3.10/dist-packages (from catboost) (0.20.3)\n",
            "Requirement already satisfied: matplotlib in /usr/local/lib/python3.10/dist-packages (from catboost) (3.7.1)\n",
            "Requirement already satisfied: numpy>=1.16.0 in /usr/local/lib/python3.10/dist-packages (from catboost) (1.26.4)\n",
            "Requirement already satisfied: pandas>=0.24 in /usr/local/lib/python3.10/dist-packages (from catboost) (2.1.4)\n",
            "Requirement already satisfied: scipy in /usr/local/lib/python3.10/dist-packages (from catboost) (1.13.1)\n",
            "Requirement already satisfied: plotly in /usr/local/lib/python3.10/dist-packages (from catboost) (5.15.0)\n",
            "Requirement already satisfied: six in /usr/local/lib/python3.10/dist-packages (from catboost) (1.16.0)\n",
            "Requirement already satisfied: python-dateutil>=2.8.2 in /usr/local/lib/python3.10/dist-packages (from pandas>=0.24->catboost) (2.8.2)\n",
            "Requirement already satisfied: pytz>=2020.1 in /usr/local/lib/python3.10/dist-packages (from pandas>=0.24->catboost) (2024.1)\n",
            "Requirement already satisfied: tzdata>=2022.1 in /usr/local/lib/python3.10/dist-packages (from pandas>=0.24->catboost) (2024.1)\n",
            "Requirement already satisfied: contourpy>=1.0.1 in /usr/local/lib/python3.10/dist-packages (from matplotlib->catboost) (1.3.0)\n",
            "Requirement already satisfied: cycler>=0.10 in /usr/local/lib/python3.10/dist-packages (from matplotlib->catboost) (0.12.1)\n",
            "Requirement already satisfied: fonttools>=4.22.0 in /usr/local/lib/python3.10/dist-packages (from matplotlib->catboost) (4.53.1)\n",
            "Requirement already satisfied: kiwisolver>=1.0.1 in /usr/local/lib/python3.10/dist-packages (from matplotlib->catboost) (1.4.5)\n",
            "Requirement already satisfied: packaging>=20.0 in /usr/local/lib/python3.10/dist-packages (from matplotlib->catboost) (24.1)\n",
            "Requirement already satisfied: pillow>=6.2.0 in /usr/local/lib/python3.10/dist-packages (from matplotlib->catboost) (9.4.0)\n",
            "Requirement already satisfied: pyparsing>=2.3.1 in /usr/local/lib/python3.10/dist-packages (from matplotlib->catboost) (3.1.4)\n",
            "Requirement already satisfied: tenacity>=6.2.0 in /usr/local/lib/python3.10/dist-packages (from plotly->catboost) (9.0.0)\n",
            "Requirement already satisfied: lightgbm in /usr/local/lib/python3.10/dist-packages (4.5.0)\n",
            "Requirement already satisfied: numpy>=1.17.0 in /usr/local/lib/python3.10/dist-packages (from lightgbm) (1.26.4)\n",
            "Requirement already satisfied: scipy in /usr/local/lib/python3.10/dist-packages (from lightgbm) (1.13.1)\n"
          ]
        }
      ],
      "source": [
        "!pip install catboost\n",
        "!pip install lightgbm --upgrade"
      ]
    },
    {
      "cell_type": "code",
      "source": [
        "import numpy as np\n",
        "import pandas as pd\n",
        "import matplotlib.pyplot as plt\n",
        "import seaborn as sns"
      ],
      "metadata": {
        "id": "DpxXwGeZm9Oy"
      },
      "execution_count": 125,
      "outputs": []
    },
    {
      "cell_type": "code",
      "source": [
        "from sklearn import datasets\n",
        "from sklearn.model_selection import train_test_split, GridSearchCV\n",
        "from sklearn.preprocessing import StandardScaler\n",
        "from sklearn.ensemble import HistGradientBoostingClassifier\n",
        "from sklearn.metrics import f1_score, confusion_matrix, classification_report, roc_auc_score\n",
        "from sklearn.naive_bayes import GaussianNB\n",
        "from sklearn.model_selection import cross_val_score\n",
        "from sklearn.pipeline import Pipeline\n",
        "from sklearn.svm import SVC\n",
        "from sklearn.feature_selection import SelectKBest, f_classif\n",
        "from sklearn.model_selection import RandomizedSearchCV\n",
        "from sklearn.ensemble import RandomForestClassifier\n",
        "from catboost import CatBoostClassifier\n",
        "from lightgbm import LGBMClassifier, log_evaluation\n",
        "from xgboost import XGBClassifier\n"
      ],
      "metadata": {
        "id": "hWIUid0knCLx"
      },
      "execution_count": 126,
      "outputs": []
    },
    {
      "cell_type": "code",
      "source": [
        "pip install dask[dataframe]"
      ],
      "metadata": {
        "colab": {
          "base_uri": "https://localhost:8080/"
        },
        "id": "GeMDmK-QneTW",
        "outputId": "4f535df7-8b9b-4c54-d5c6-8ee511207a50"
      },
      "execution_count": 127,
      "outputs": [
        {
          "output_type": "stream",
          "name": "stdout",
          "text": [
            "Requirement already satisfied: dask[dataframe] in /usr/local/lib/python3.10/dist-packages (2024.7.1)\n",
            "Requirement already satisfied: click>=8.1 in /usr/local/lib/python3.10/dist-packages (from dask[dataframe]) (8.1.7)\n",
            "Requirement already satisfied: cloudpickle>=1.5.0 in /usr/local/lib/python3.10/dist-packages (from dask[dataframe]) (2.2.1)\n",
            "Requirement already satisfied: fsspec>=2021.09.0 in /usr/local/lib/python3.10/dist-packages (from dask[dataframe]) (2024.6.1)\n",
            "Requirement already satisfied: packaging>=20.0 in /usr/local/lib/python3.10/dist-packages (from dask[dataframe]) (24.1)\n",
            "Requirement already satisfied: partd>=1.4.0 in /usr/local/lib/python3.10/dist-packages (from dask[dataframe]) (1.4.2)\n",
            "Requirement already satisfied: pyyaml>=5.3.1 in /usr/local/lib/python3.10/dist-packages (from dask[dataframe]) (6.0.2)\n",
            "Requirement already satisfied: toolz>=0.10.0 in /usr/local/lib/python3.10/dist-packages (from dask[dataframe]) (0.12.1)\n",
            "Requirement already satisfied: importlib-metadata>=4.13.0 in /usr/local/lib/python3.10/dist-packages (from dask[dataframe]) (8.4.0)\n",
            "Requirement already satisfied: pandas>=2.0 in /usr/local/lib/python3.10/dist-packages (from dask[dataframe]) (2.1.4)\n",
            "Requirement already satisfied: dask-expr<1.2,>=1.1 in /usr/local/lib/python3.10/dist-packages (from dask[dataframe]) (1.1.9)\n",
            "Requirement already satisfied: pyarrow>=7.0.0 in /usr/local/lib/python3.10/dist-packages (from dask-expr<1.2,>=1.1->dask[dataframe]) (14.0.2)\n",
            "Requirement already satisfied: zipp>=0.5 in /usr/local/lib/python3.10/dist-packages (from importlib-metadata>=4.13.0->dask[dataframe]) (3.20.1)\n",
            "Requirement already satisfied: numpy<2,>=1.22.4 in /usr/local/lib/python3.10/dist-packages (from pandas>=2.0->dask[dataframe]) (1.26.4)\n",
            "Requirement already satisfied: python-dateutil>=2.8.2 in /usr/local/lib/python3.10/dist-packages (from pandas>=2.0->dask[dataframe]) (2.8.2)\n",
            "Requirement already satisfied: pytz>=2020.1 in /usr/local/lib/python3.10/dist-packages (from pandas>=2.0->dask[dataframe]) (2024.1)\n",
            "Requirement already satisfied: tzdata>=2022.1 in /usr/local/lib/python3.10/dist-packages (from pandas>=2.0->dask[dataframe]) (2024.1)\n",
            "Requirement already satisfied: locket in /usr/local/lib/python3.10/dist-packages (from partd>=1.4.0->dask[dataframe]) (1.0.0)\n",
            "Requirement already satisfied: six>=1.5 in /usr/local/lib/python3.10/dist-packages (from python-dateutil>=2.8.2->pandas>=2.0->dask[dataframe]) (1.16.0)\n"
          ]
        }
      ]
    },
    {
      "cell_type": "code",
      "source": [
        "from catboost import CatBoostClassifier\n",
        "from lightgbm import LGBMClassifier\n",
        "from xgboost import XGBClassifier\n",
        "from imblearn.over_sampling import SMOTE"
      ],
      "metadata": {
        "id": "Z6W4sZQLnMl_"
      },
      "execution_count": 128,
      "outputs": []
    },
    {
      "cell_type": "code",
      "source": [
        "from warnings import filterwarnings\n",
        "filterwarnings('ignore')"
      ],
      "metadata": {
        "id": "2oP9BT37nGLy"
      },
      "execution_count": 129,
      "outputs": []
    },
    {
      "cell_type": "code",
      "source": [
        "# Load breast cancer dataset\n",
        "cancer = datasets.load_breast_cancer()\n",
        "X = pd.DataFrame(cancer.data, columns=cancer.feature_names)\n",
        "y = pd.Series(cancer.target)"
      ],
      "metadata": {
        "id": "RzfQkZ9fnplO"
      },
      "execution_count": 130,
      "outputs": []
    },
    {
      "cell_type": "code",
      "source": [
        "# Split the data into train and test sets\n",
        "X_train, X_test, y_train, y_test = train_test_split(X, y, test_size=0.2, random_state=42)"
      ],
      "metadata": {
        "id": "CtlYsZ0-nrCG"
      },
      "execution_count": 131,
      "outputs": []
    },
    {
      "cell_type": "code",
      "source": [
        "# Standardize the features for models that need scaling (SVM)\n",
        "scaler = StandardScaler()\n",
        "X_train_scaled = scaler.fit_transform(X_train)\n",
        "X_test_scaled = scaler.transform(X_test)"
      ],
      "metadata": {
        "id": "mU2_hs1Tnzqc"
      },
      "execution_count": 132,
      "outputs": []
    },
    {
      "cell_type": "code",
      "source": [
        "# Model evaluation function\n",
        "def evaluate_model(model, X_train, X_test, y_train, y_test):\n",
        "    # Model Train\n",
        "    model.fit(X_train, y_train)\n",
        "\n",
        "    # Model predict\n",
        "    y_pred = model.predict(X_test)\n",
        "\n",
        "    # Calculate F1-score and ROC-AUC\n",
        "    f1 = f1_score(y_test, y_pred)\n",
        "    roc_auc = roc_auc_score(y_test, y_pred)\n",
        "    print(f\"F1-score: {f1:.4f}\")\n",
        "    print(f\"ROC-AUC: {roc_auc:.4f}\")\n",
        "\n",
        "    # Confusion matrix\n",
        "    cm = confusion_matrix(y_test, y_pred)\n",
        "    sns.heatmap(cm, annot=True, fmt=\"d\", cmap='Blues')\n",
        "    plt.title(f'Confusion Matrix for {model.__class__.__name__}')\n",
        "    plt.xlabel('Predicted')\n",
        "    plt.ylabel('True')\n",
        "    plt.show()\n",
        "\n",
        "    # Classification report\n",
        "    print(f\"{model.__class__.__name__} Classification Report:\\n\", classification_report(y_test, y_pred))\n",
        "\n",
        "    return f1\n",
        "\n"
      ],
      "metadata": {
        "id": "r7k5SHSKn53X"
      },
      "execution_count": 133,
      "outputs": []
    },
    {
      "cell_type": "code",
      "source": [
        "from sklearn.decomposition import PCA\n",
        "# Using PCA for dimensionality reduction and performance improvement\n",
        "pca = PCA(n_components=10)"
      ],
      "metadata": {
        "id": "iULItkIQsrt_"
      },
      "execution_count": 134,
      "outputs": []
    },
    {
      "cell_type": "code",
      "source": [
        "\n",
        "# 1. Optimized SVM using RandomizedSearchCV with PCA\n",
        "print(\"Evaluating Optimized SVM with PCA:\")\n",
        "svm_pipeline = Pipeline([\n",
        "    ('scaler', StandardScaler()),\n",
        "    ('pca', pca),\n",
        "    ('svm', SVC(probability=True, random_state=42, class_weight='balanced'))\n",
        "])\n",
        "\n",
        "svm_params = {\n",
        "    'svm__C': [0.1, 1, 10, 100],\n",
        "    'svm__kernel': ['linear', 'rbf', 'poly'],\n",
        "    'svm__gamma': ['scale', 'auto'],\n",
        "    'svm__degree': [2, 3, 4]\n",
        "}\n",
        "\n",
        "random_search_svm = RandomizedSearchCV(svm_pipeline, svm_params, cv=5, n_jobs=-1, scoring='f1', random_state=42, n_iter=20)\n",
        "f1_svm = evaluate_model(random_search_svm, X_train, X_test, y_train, y_test)"
      ],
      "metadata": {
        "colab": {
          "base_uri": "https://localhost:8080/",
          "height": 733
        },
        "id": "3OE_1k8MpZqk",
        "outputId": "ba14a557-c20d-4ea6-a337-2eb52fbdac51"
      },
      "execution_count": 135,
      "outputs": [
        {
          "output_type": "stream",
          "name": "stdout",
          "text": [
            "Evaluating Optimized SVM with PCA:\n",
            "F1-score: 0.9930\n",
            "ROC-AUC: 0.9884\n"
          ]
        },
        {
          "output_type": "display_data",
          "data": {
            "text/plain": [
              "<Figure size 640x480 with 2 Axes>"
            ],
            "image/png": "[encoded data removed]"
          },
          "metadata": {}
        },
        {
          "output_type": "stream",
          "name": "stdout",
          "text": [
            "RandomizedSearchCV Classification Report:\n",
            "               precision    recall  f1-score   support\n",
            "\n",
            "           0       1.00      0.98      0.99        43\n",
            "           1       0.99      1.00      0.99        71\n",
            "\n",
            "    accuracy                           0.99       114\n",
            "   macro avg       0.99      0.99      0.99       114\n",
            "weighted avg       0.99      0.99      0.99       114\n",
            "\n"
          ]
        }
      ]
    },
    {
      "cell_type": "code",
      "source": [
        "\n",
        "\n",
        "# Load the data and split into train/test\n",
        "cancer = datasets.load_breast_cancer()\n",
        "X = pd.DataFrame(cancer.data, columns=cancer.feature_names)\n",
        "y = pd.Series(cancer.target)\n",
        "X_train, X_test, y_train, y_test = train_test_split(X, y, test_size=0.2, random_state=42)\n",
        "\n",
        "# Standardize the data\n",
        "scaler = StandardScaler()\n",
        "X_train_scaled = scaler.fit_transform(X_train)\n",
        "X_test_scaled = scaler.transform(X_test)\n",
        "\n",
        "# Evaluating Gaussian Naive Bayes with Cross-Validation\n",
        "def evaluate_gaussian_nb(X_train, X_test, y_train, y_test):\n",
        "    # Gaussian Naive Bayes model\n",
        "    nb_model = GaussianNB()\n",
        "\n",
        "    # Perform Cross-Validation for F1-score\n",
        "    scores = cross_val_score(nb_model, X_train, y_train, cv=5, scoring='f1', n_jobs=-1)\n",
        "    print(f\"Cross-validated F1-scores: {scores}\")\n",
        "    print(f\"Mean F1-score from cross-validation: {scores.mean():.4f}\")\n",
        "\n",
        "    # Train and evaluate on test data\n",
        "    nb_model.fit(X_train, y_train)\n",
        "    y_pred_nb = nb_model.predict(X_test)\n",
        "\n",
        "    # Calculate F1-score\n",
        "    f1_nb = f1_score(y_test, y_pred_nb)\n",
        "    print(f\"Gaussian Naive Bayes F1-score on test data: {f1_nb:.4f}\")\n",
        "\n",
        "    # Confusion matrix and heatmap\n",
        "    cm_nb = confusion_matrix(y_test, y_pred_nb)\n",
        "    sns.heatmap(cm_nb, annot=True, fmt=\"d\", cmap='Blues')\n",
        "    plt.title('Confusion Matrix for Gaussian Naive Bayes')\n",
        "    plt.xlabel('Predicted')\n",
        "    plt.ylabel('True')\n",
        "    plt.show()\n",
        "\n",
        "    # Classification report\n",
        "    print(f\"Gaussian Naive Bayes Classification Report:\\n\", classification_report(y_test, y_pred_nb))\n",
        "\n",
        "    return f1_nb\n",
        "\n",
        "# Call the optimized function with scaled data\n",
        "f1_nb = evaluate_gaussian_nb(X_train_scaled, X_test_scaled, y_train, y_test)\n"
      ],
      "metadata": {
        "colab": {
          "base_uri": "https://localhost:8080/",
          "height": 733
        },
        "id": "DG7_xplXzDIH",
        "outputId": "f4fe10f3-13ba-41aa-f774-b6d24049a090"
      },
      "execution_count": 136,
      "outputs": [
        {
          "output_type": "stream",
          "name": "stdout",
          "text": [
            "Cross-validated F1-scores: [0.92173913 0.97435897 0.94642857 0.94915254 0.94915254]\n",
            "Mean F1-score from cross-validation: 0.9482\n",
            "Gaussian Naive Bayes F1-score on test data: 0.9722\n"
          ]
        },
        {
          "output_type": "display_data",
          "data": {
            "text/plain": [
              "<Figure size 640x480 with 2 Axes>"
            ],
            "image/png": "[encoded data removed]"
          },
          "metadata": {}
        },
        {
          "output_type": "stream",
          "name": "stdout",
          "text": [
            "Gaussian Naive Bayes Classification Report:\n",
            "               precision    recall  f1-score   support\n",
            "\n",
            "           0       0.98      0.93      0.95        43\n",
            "           1       0.96      0.99      0.97        71\n",
            "\n",
            "    accuracy                           0.96       114\n",
            "   macro avg       0.97      0.96      0.96       114\n",
            "weighted avg       0.97      0.96      0.96       114\n",
            "\n"
          ]
        }
      ]
    },
    {
      "cell_type": "code",
      "source": [
        "\n",
        "# Optimizing Random Forest with GridSearchCV and balanced class weights\n",
        "def evaluate_random_forest_optimized(X_train, X_test, y_train, y_test):\n",
        "    # Define the RandomForest model\n",
        "    rf_model = RandomForestClassifier(random_state=42, class_weight='balanced')\n",
        "\n",
        "    # Define the parameter grid for GridSearchCV\n",
        "    param_grid = {\n",
        "        'n_estimators': [200, 300, 500],\n",
        "        'max_depth': [10, 20, 30],\n",
        "        'max_features': ['auto', 'sqrt', 'log2'],\n",
        "        'min_samples_split': [2, 5, 10],\n",
        "        'min_samples_leaf': [1, 2, 4]\n",
        "    }\n",
        "\n",
        "    # GridSearchCV to find the best hyperparameters\n",
        "    grid_search = GridSearchCV(rf_model, param_grid, scoring='f1', cv=5, n_jobs=-1)\n",
        "    grid_search.fit(X_train, y_train)\n",
        "\n",
        "    # Best model after GridSearch\n",
        "    best_rf_model = grid_search.best_estimator_\n",
        "    print(f\"Best parameters: {grid_search.best_params_}\")\n",
        "\n",
        "    # Train and evaluate on test data\n",
        "    y_pred_rf = best_rf_model.predict(X_test)\n",
        "\n",
        "    # Calculate F1-score\n",
        "    f1_rf = f1_score(y_test, y_pred_rf)\n",
        "    print(f\"Random Forest F1-score: {f1_rf:.4f}\")\n",
        "\n",
        "    # Confusion matrix and heatmap\n",
        "    cm_rf = confusion_matrix(y_test, y_pred_rf)\n",
        "    sns.heatmap(cm_rf, annot=True, fmt=\"d\", cmap='Blues')\n",
        "    plt.title('Confusion Matrix for Random Forest')\n",
        "    plt.xlabel('Predicted')\n",
        "    plt.ylabel('True')\n",
        "    plt.show()\n",
        "\n",
        "    # Classification report\n",
        "    print(f\"Random Forest Classification Report:\\n\", classification_report(y_test, y_pred_rf))\n",
        "\n",
        "    return f1_rf\n",
        "\n",
        "# Call the function to evaluate the optimized Random Forest model\n",
        "f1_rf = evaluate_random_forest_optimized(X_train, X_test, y_train, y_test)\n"
      ],
      "metadata": {
        "colab": {
          "base_uri": "https://localhost:8080/",
          "height": 715
        },
        "id": "HBTbOMOnwElH",
        "outputId": "5560cb1b-eec6-401c-fd53-32814072755b"
      },
      "execution_count": 137,
      "outputs": [
        {
          "output_type": "stream",
          "name": "stdout",
          "text": [
            "Best parameters: {'max_depth': 10, 'max_features': 'sqrt', 'min_samples_leaf': 1, 'min_samples_split': 2, 'n_estimators': 200}\n",
            "Random Forest F1-score: 0.9790\n"
          ]
        },
        {
          "output_type": "display_data",
          "data": {
            "text/plain": [
              "<Figure size 640x480 with 2 Axes>"
            ],
            "image/png": "[encoded data removed]"
          },
          "metadata": {}
        },
        {
          "output_type": "stream",
          "name": "stdout",
          "text": [
            "Random Forest Classification Report:\n",
            "               precision    recall  f1-score   support\n",
            "\n",
            "           0       0.98      0.95      0.96        43\n",
            "           1       0.97      0.99      0.98        71\n",
            "\n",
            "    accuracy                           0.97       114\n",
            "   macro avg       0.97      0.97      0.97       114\n",
            "weighted avg       0.97      0.97      0.97       114\n",
            "\n"
          ]
        }
      ]
    },
    {
      "cell_type": "code",
      "source": [
        "\n",
        "# Optimizing CatBoost with RandomizedSearchCV\n",
        "def evaluate_catboost_optimized(X_train, X_test, y_train, y_test):\n",
        "    # Define the CatBoost model with early stopping\n",
        "    catboost_model = CatBoostClassifier(verbose=0, random_state=42, early_stopping_rounds=20)\n",
        "\n",
        "    # Define the parameter distribution for RandomizedSearchCV\n",
        "    param_dist = {\n",
        "        'iterations': [100, 200, 300],\n",
        "        'depth': [4, 6, 8],\n",
        "        'learning_rate': [0.05, 0.1, 0.15],\n",
        "        'l2_leaf_reg': [1, 3, 5]\n",
        "    }\n",
        "\n",
        "    # RandomizedSearchCV to find the best hyperparameters\n",
        "    random_search = RandomizedSearchCV(catboost_model, param_distributions=param_dist, n_iter=10, scoring='f1', cv=3, n_jobs=-1, random_state=42)\n",
        "    random_search.fit(X_train, y_train)\n",
        "\n",
        "    # Best model after RandomizedSearch\n",
        "    best_catboost_model = random_search.best_estimator_\n",
        "    print(f\"Best parameters: {random_search.best_params_}\")\n",
        "\n",
        "    # Train and evaluate on test data\n",
        "    y_pred_catboost = best_catboost_model.predict(X_test)\n",
        "\n",
        "    # Calculate F1-score\n",
        "    f1_catboost = f1_score(y_test, y_pred_catboost)\n",
        "    print(f\"CatBoost F1-score: {f1_catboost:.4f}\")\n",
        "\n",
        "    # Confusion matrix and heatmap\n",
        "    cm_catboost = confusion_matrix(y_test, y_pred_catboost)\n",
        "    sns.heatmap(cm_catboost, annot=True, fmt=\"d\", cmap='Blues')\n",
        "    plt.title('Confusion Matrix for CatBoost')\n",
        "    plt.xlabel('Predicted')\n",
        "    plt.ylabel('True')\n",
        "    plt.show()\n",
        "\n",
        "    # Classification report\n",
        "    print(f\"CatBoost Classification Report:\\n\", classification_report(y_test, y_pred_catboost))\n",
        "\n",
        "    return f1_catboost\n",
        "\n",
        "# Call the function to evaluate the optimized CatBoost model\n",
        "f1_catboost = evaluate_catboost_optimized(X_train, X_test, y_train, y_test)"
      ],
      "metadata": {
        "colab": {
          "base_uri": "https://localhost:8080/",
          "height": 715
        },
        "id": "NtOEri3x4F9r",
        "outputId": "10064061-8c75-4017-f8ba-fc746adebc21"
      },
      "execution_count": 138,
      "outputs": [
        {
          "output_type": "stream",
          "name": "stdout",
          "text": [
            "Best parameters: {'learning_rate': 0.1, 'l2_leaf_reg': 1, 'iterations': 100, 'depth': 6}\n",
            "CatBoost F1-score: 0.9790\n"
          ]
        },
        {
          "output_type": "display_data",
          "data": {
            "text/plain": [
              "<Figure size 640x480 with 2 Axes>"
            ],
            "image/png": "[encoded data removed]"
          },
          "metadata": {}
        },
        {
          "output_type": "stream",
          "name": "stdout",
          "text": [
            "CatBoost Classification Report:\n",
            "               precision    recall  f1-score   support\n",
            "\n",
            "           0       0.98      0.95      0.96        43\n",
            "           1       0.97      0.99      0.98        71\n",
            "\n",
            "    accuracy                           0.97       114\n",
            "   macro avg       0.97      0.97      0.97       114\n",
            "weighted avg       0.97      0.97      0.97       114\n",
            "\n"
          ]
        }
      ]
    },
    {
      "cell_type": "code",
      "source": [
        "\n",
        "# Optimizing LightGBM without 'early_stopping_rounds' error\n",
        "def evaluate_lightgbm_optimized(X_train, X_test, y_train, y_test):\n",
        "    # Define the LightGBM model\n",
        "    lgbm_model = LGBMClassifier(\n",
        "        learning_rate=0.05,         # Learning rate\n",
        "        n_estimators=100,           # Number of estimators\n",
        "        max_depth=7,                # Maximum depth of the tree\n",
        "        num_leaves=30,              # Number of leaves\n",
        "        min_child_samples=20,       # Minimum samples per leaf\n",
        "        subsample=0.8,              # Subsample rate\n",
        "        colsample_bytree=0.8,       # Feature subsample rate\n",
        "        random_state=42\n",
        "    )\n",
        "\n",
        "    # Training the model without verbose output\n",
        "    lgbm_model.fit(\n",
        "        X_train, y_train,\n",
        "        eval_set=[(X_test, y_test)],  # Validation data for evaluation\n",
        "        eval_metric='logloss',        # Evaluation metric\n",
        "        callbacks=[log_evaluation(period=0)]  # Suppress verbose output\n",
        "    )\n",
        "\n",
        "    # Predict on test data\n",
        "    y_pred_lgbm = lgbm_model.predict(X_test)\n",
        "\n",
        "    # Calculate F1-score\n",
        "    f1_lgbm = f1_score(y_test, y_pred_lgbm)\n",
        "    print(f\"LightGBM F1-score: {f1_lgbm:.4f}\")\n",
        "\n",
        "    # Confusion matrix and heatmap\n",
        "    cm_lgbm = confusion_matrix(y_test, y_pred_lgbm)\n",
        "    sns.heatmap(cm_lgbm, annot=True, fmt=\"d\", cmap='Blues')\n",
        "    plt.title('Confusion Matrix for LightGBM')\n",
        "    plt.xlabel('Predicted')\n",
        "    plt.ylabel('True')\n",
        "    plt.show()\n",
        "\n",
        "    # Classification report\n",
        "    print(f\"LightGBM Classification Report:\\n\", classification_report(y_test, y_pred_lgbm))\n",
        "\n",
        "    return f1_lgbm\n",
        "\n",
        "# Example call (replace with your data split)\n",
        "# X_train, X_test, y_train, y_test = train_test_split(X, y, test_size=0.2, random_state=42)\n",
        "f1_lgbm = evaluate_lightgbm_optimized(X_train, X_test, y_train, y_test)\n"
      ],
      "metadata": {
        "colab": {
          "base_uri": "https://localhost:8080/",
          "height": 1000
        },
        "id": "qvVGUyWFH13v",
        "outputId": "249dc408-efc9-4d89-8ba0-95cc0d3ecefc"
      },
      "execution_count": 139,
      "outputs": [
        {
          "output_type": "stream",
          "name": "stdout",
          "text": [
            "[LightGBM] [Warning] Found whitespace in feature_names, replace with underlines\n",
            "[LightGBM] [Info] Number of positive: 286, number of negative: 169\n",
            "[LightGBM] [Info] Auto-choosing col-wise multi-threading, the overhead of testing was 0.000320 seconds.\n",
            "You can set `force_col_wise=true` to remove the overhead.\n",
            "[LightGBM] [Info] Total Bins 4548\n",
            "[LightGBM] [Info] Number of data points in the train set: 455, number of used features: 30\n",
            "[LightGBM] [Warning] Found whitespace in feature_names, replace with underlines\n",
            "[LightGBM] [Info] [binary:BoostFromScore]: pavg=0.628571 -> initscore=0.526093\n",
            "[LightGBM] [Info] Start training from score 0.526093\n",
            "[LightGBM] [Warning] No further splits with positive gain, best gain: -inf\n",
            "[LightGBM] [Warning] No further splits with positive gain, best gain: -inf\n",
            "[LightGBM] [Warning] No further splits with positive gain, best gain: -inf\n",
            "[LightGBM] [Warning] No further splits with positive gain, best gain: -inf\n",
            "[LightGBM] [Warning] No further splits with positive gain, best gain: -inf\n",
            "[LightGBM] [Warning] No further splits with positive gain, best gain: -inf\n",
            "[LightGBM] [Warning] No further splits with positive gain, best gain: -inf\n",
            "[LightGBM] [Warning] No further splits with positive gain, best gain: -inf\n",
            "[LightGBM] [Warning] No further splits with positive gain, best gain: -inf\n",
            "[LightGBM] [Warning] No further splits with positive gain, best gain: -inf\n",
            "[LightGBM] [Warning] No further splits with positive gain, best gain: -inf\n",
            "[LightGBM] [Warning] No further splits with positive gain, best gain: -inf\n",
            "[LightGBM] [Warning] No further splits with positive gain, best gain: -inf\n",
            "[LightGBM] [Warning] No further splits with positive gain, best gain: -inf\n",
            "[LightGBM] [Warning] No further splits with positive gain, best gain: -inf\n",
            "[LightGBM] [Warning] No further splits with positive gain, best gain: -inf\n",
            "[LightGBM] [Warning] No further splits with positive gain, best gain: -inf\n",
            "[LightGBM] [Warning] No further splits with positive gain, best gain: -inf\n",
            "[LightGBM] [Warning] No further splits with positive gain, best gain: -inf\n",
            "[LightGBM] [Warning] No further splits with positive gain, best gain: -inf\n",
            "[LightGBM] [Warning] No further splits with positive gain, best gain: -inf\n",
            "[LightGBM] [Warning] No further splits with positive gain, best gain: -inf\n",
            "[LightGBM] [Warning] No further splits with positive gain, best gain: -inf\n",
            "[LightGBM] [Warning] No further splits with positive gain, best gain: -inf\n",
            "[LightGBM] [Warning] No further splits with positive gain, best gain: -inf\n",
            "[LightGBM] [Warning] No further splits with positive gain, best gain: -inf\n",
            "[LightGBM] [Warning] No further splits with positive gain, best gain: -inf\n",
            "[LightGBM] [Warning] No further splits with positive gain, best gain: -inf\n",
            "[LightGBM] [Warning] No further splits with positive gain, best gain: -inf\n",
            "[LightGBM] [Warning] No further splits with positive gain, best gain: -inf\n",
            "[LightGBM] [Warning] No further splits with positive gain, best gain: -inf\n",
            "[LightGBM] [Warning] No further splits with positive gain, best gain: -inf\n",
            "[LightGBM] [Warning] No further splits with positive gain, best gain: -inf\n",
            "[LightGBM] [Warning] No further splits with positive gain, best gain: -inf\n",
            "[LightGBM] [Warning] No further splits with positive gain, best gain: -inf\n",
            "[LightGBM] [Warning] No further splits with positive gain, best gain: -inf\n",
            "[LightGBM] [Warning] No further splits with positive gain, best gain: -inf\n",
            "[LightGBM] [Warning] No further splits with positive gain, best gain: -inf\n",
            "[LightGBM] [Warning] No further splits with positive gain, best gain: -inf\n",
            "[LightGBM] [Warning] No further splits with positive gain, best gain: -inf\n",
            "[LightGBM] [Warning] No further splits with positive gain, best gain: -inf\n",
            "[LightGBM] [Warning] No further splits with positive gain, best gain: -inf\n",
            "[LightGBM] [Warning] No further splits with positive gain, best gain: -inf\n",
            "[LightGBM] [Warning] No further splits with positive gain, best gain: -inf\n",
            "[LightGBM] [Warning] No further splits with positive gain, best gain: -inf\n",
            "[LightGBM] [Warning] No further splits with positive gain, best gain: -inf\n",
            "[LightGBM] [Warning] No further splits with positive gain, best gain: -inf\n",
            "[LightGBM] [Warning] No further splits with positive gain, best gain: -inf\n",
            "[LightGBM] [Warning] No further splits with positive gain, best gain: -inf\n",
            "[LightGBM] [Warning] No further splits with positive gain, best gain: -inf\n",
            "[LightGBM] [Warning] No further splits with positive gain, best gain: -inf\n",
            "[LightGBM] [Warning] No further splits with positive gain, best gain: -inf\n",
            "[LightGBM] [Warning] No further splits with positive gain, best gain: -inf\n",
            "[LightGBM] [Warning] No further splits with positive gain, best gain: -inf\n",
            "[LightGBM] [Warning] No further splits with positive gain, best gain: -inf\n",
            "[LightGBM] [Warning] No further splits with positive gain, best gain: -inf\n",
            "[LightGBM] [Warning] No further splits with positive gain, best gain: -inf\n",
            "[LightGBM] [Warning] No further splits with positive gain, best gain: -inf\n",
            "[LightGBM] [Warning] No further splits with positive gain, best gain: -inf\n",
            "[LightGBM] [Warning] No further splits with positive gain, best gain: -inf\n",
            "[LightGBM] [Warning] No further splits with positive gain, best gain: -inf\n",
            "[LightGBM] [Warning] No further splits with positive gain, best gain: -inf\n",
            "[LightGBM] [Warning] No further splits with positive gain, best gain: -inf\n",
            "[LightGBM] [Warning] No further splits with positive gain, best gain: -inf\n",
            "[LightGBM] [Warning] No further splits with positive gain, best gain: -inf\n",
            "[LightGBM] [Warning] No further splits with positive gain, best gain: -inf\n",
            "[LightGBM] [Warning] No further splits with positive gain, best gain: -inf\n",
            "[LightGBM] [Warning] No further splits with positive gain, best gain: -inf\n",
            "[LightGBM] [Warning] No further splits with positive gain, best gain: -inf\n",
            "[LightGBM] [Warning] No further splits with positive gain, best gain: -inf\n",
            "[LightGBM] [Warning] No further splits with positive gain, best gain: -inf\n",
            "[LightGBM] [Warning] No further splits with positive gain, best gain: -inf\n",
            "[LightGBM] [Warning] No further splits with positive gain, best gain: -inf\n",
            "[LightGBM] [Warning] No further splits with positive gain, best gain: -inf\n",
            "[LightGBM] [Warning] No further splits with positive gain, best gain: -inf\n",
            "[LightGBM] [Warning] No further splits with positive gain, best gain: -inf\n",
            "[LightGBM] [Warning] No further splits with positive gain, best gain: -inf\n",
            "[LightGBM] [Warning] No further splits with positive gain, best gain: -inf\n",
            "[LightGBM] [Warning] No further splits with positive gain, best gain: -inf\n",
            "[LightGBM] [Warning] No further splits with positive gain, best gain: -inf\n",
            "[LightGBM] [Warning] No further splits with positive gain, best gain: -inf\n",
            "[LightGBM] [Warning] No further splits with positive gain, best gain: -inf\n",
            "[LightGBM] [Warning] No further splits with positive gain, best gain: -inf\n",
            "[LightGBM] [Warning] No further splits with positive gain, best gain: -inf\n",
            "[LightGBM] [Warning] No further splits with positive gain, best gain: -inf\n",
            "[LightGBM] [Warning] No further splits with positive gain, best gain: -inf\n",
            "[LightGBM] [Warning] No further splits with positive gain, best gain: -inf\n",
            "[LightGBM] [Warning] No further splits with positive gain, best gain: -inf\n",
            "[LightGBM] [Warning] No further splits with positive gain, best gain: -inf\n",
            "[LightGBM] [Warning] No further splits with positive gain, best gain: -inf\n",
            "[LightGBM] [Warning] No further splits with positive gain, best gain: -inf\n",
            "[LightGBM] [Warning] No further splits with positive gain, best gain: -inf\n",
            "[LightGBM] [Warning] No further splits with positive gain, best gain: -inf\n",
            "[LightGBM] [Warning] No further splits with positive gain, best gain: -inf\n",
            "[LightGBM] [Warning] No further splits with positive gain, best gain: -inf\n",
            "[LightGBM] [Warning] No further splits with positive gain, best gain: -inf\n",
            "[LightGBM] [Warning] No further splits with positive gain, best gain: -inf\n",
            "[LightGBM] [Warning] No further splits with positive gain, best gain: -inf\n",
            "[LightGBM] [Warning] No further splits with positive gain, best gain: -inf\n",
            "[LightGBM] [Warning] No further splits with positive gain, best gain: -inf\n",
            "LightGBM F1-score: 0.9790\n"
          ]
        },
        {
          "output_type": "display_data",
          "data": {
            "text/plain": [
              "<Figure size 640x480 with 2 Axes>"
            ],
            "image/png": "[encoded data removed]"
          },
          "metadata": {}
        },
        {
          "output_type": "stream",
          "name": "stdout",
          "text": [
            "LightGBM Classification Report:\n",
            "               precision    recall  f1-score   support\n",
            "\n",
            "           0       0.98      0.95      0.96        43\n",
            "           1       0.97      0.99      0.98        71\n",
            "\n",
            "    accuracy                           0.97       114\n",
            "   macro avg       0.97      0.97      0.97       114\n",
            "weighted avg       0.97      0.97      0.97       114\n",
            "\n"
          ]
        }
      ]
    },
    {
      "cell_type": "code",
      "source": [
        "\n",
        "\n",
        "# Optimizing XGBoost without 'eval_metric' error\n",
        "def evaluate_xgboost_optimized(X_train, X_test, y_train, y_test):\n",
        "    # Define the XGBoost model\n",
        "    xgb_model = XGBClassifier(\n",
        "        use_label_encoder=False,\n",
        "        random_state=42,\n",
        "        n_estimators=200,\n",
        "        max_depth=6,\n",
        "        learning_rate=0.1,\n",
        "        subsample=0.8,\n",
        "        colsample_bytree=0.8\n",
        "    )\n",
        "\n",
        "    # Train the model without verbose output\n",
        "    xgb_model.fit(\n",
        "        X_train, y_train,\n",
        "        eval_set=[(X_test, y_test)],\n",
        "        verbose=False,  # Turn off verbose output\n",
        "    )\n",
        "\n",
        "    # Predict on test data\n",
        "    y_pred_xgb = xgb_model.predict(X_test)\n",
        "\n",
        "    # Calculate F1-score\n",
        "    f1_xgb = f1_score(y_test, y_pred_xgb)\n",
        "    print(f\"XGBoost F1-score: {f1_xgb:.4f}\")\n",
        "\n",
        "    # Confusion matrix and heatmap\n",
        "    cm_xgb = confusion_matrix(y_test, y_pred_xgb)\n",
        "    sns.heatmap(cm_xgb, annot=True, fmt=\"d\", cmap='Blues')\n",
        "    plt.title('Confusion Matrix for XGBoost')\n",
        "    plt.xlabel('Predicted')\n",
        "    plt.ylabel('True')\n",
        "    plt.show()\n",
        "\n",
        "    # Classification report\n",
        "    print(f\"XGBoost Classification Report:\\n\", classification_report(y_test, y_pred_xgb))\n",
        "\n",
        "    return f1_xgb\n",
        "\n",
        "# Example call (replace with your data split)\n",
        "# Assuming you have your X_train, X_test, y_train, and y_test already defined\n",
        "f1_xgb = evaluate_xgboost_optimized(X_train, X_test, y_train, y_test)"
      ],
      "metadata": {
        "colab": {
          "base_uri": "https://localhost:8080/",
          "height": 696
        },
        "id": "1W4k80D5HLRE",
        "outputId": "00ad7788-f945-4a44-eca8-aba077725cc2"
      },
      "execution_count": 140,
      "outputs": [
        {
          "output_type": "stream",
          "name": "stdout",
          "text": [
            "XGBoost F1-score: 0.9722\n"
          ]
        },
        {
          "output_type": "display_data",
          "data": {
            "text/plain": [
              "<Figure size 640x480 with 2 Axes>"
            ],
            "image/png": "[encoded data removed]"
          },
          "metadata": {}
        },
        {
          "output_type": "stream",
          "name": "stdout",
          "text": [
            "XGBoost Classification Report:\n",
            "               precision    recall  f1-score   support\n",
            "\n",
            "           0       0.98      0.93      0.95        43\n",
            "           1       0.96      0.99      0.97        71\n",
            "\n",
            "    accuracy                           0.96       114\n",
            "   macro avg       0.97      0.96      0.96       114\n",
            "weighted avg       0.97      0.96      0.96       114\n",
            "\n"
          ]
        }
      ]
    },
    {
      "cell_type": "code",
      "source": [
        "# Summary of F1-scores for comparison with formatting\n",
        "print(\"\\n\" + \"=\"*40)\n",
        "print(\"Model F1-scores Comparison\")\n",
        "print(\"=\"*40)\n",
        "\n",
        "# Print the F1-scores in a clean, formatted way\n",
        "print(f\"SVM:          \\t{f1_svm:.4f}\")\n",
        "print(f\"Naive Bayes:  \\t{f1_nb:.4f}\")\n",
        "print(f\"Random Forest:\\t{f1_rf:.4f}\")\n",
        "print(f\"CatBoost:     \\t{f1_catboost:.4f}\")\n",
        "print(f\"LightGBM:     \\t{f1_lgbm:.4f}\")\n",
        "print(f\"XGBoost:      \\t{f1_xgb:.4f}\")\n",
        "\n",
        "# Initial F1-scores from the original notebook\n",
        "initial_f1_scores = {\n",
        "    \"SVM\": 0.9861,\n",
        "    \"Naive Bayes\": 0.9722,\n",
        "    \"Random Forest\": 0.9722,\n",
        "    \"CatBoost\": 0.9790,\n",
        "    \"LightGBM\": 0.9722,\n",
        "    \"XGBoost\": 0.9650\n",
        "}\n",
        "\n",
        "# Current F1-scores for models\n",
        "current_f1_scores = {\n",
        "    \"SVM\": f1_svm,\n",
        "    \"Naive Bayes\": f1_nb,\n",
        "    \"Random Forest\": f1_rf,\n",
        "    \"CatBoost\": f1_catboost,\n",
        "    \"LightGBM\": f1_lgbm,\n",
        "    \"XGBoost\": f1_xgb\n",
        "}\n",
        "\n",
        "# Calculate the improvement for each model\n",
        "print(\"\\n\" + \"=\"*40)\n",
        "print(\"F1-score Improvement Comparison\")\n",
        "print(\"=\"*40)\n",
        "\n",
        "for model, initial_score in initial_f1_scores.items():\n",
        "    current_score = current_f1_scores[model]\n",
        "    improvement = current_score - initial_score\n",
        "    if improvement > 0:\n",
        "        print(f\"{model}: \\tImproved by {improvement:.4f} from {initial_score:.4f} to {current_score:.4f}\")\n",
        "    elif improvement < 0:\n",
        "        print(f\"{model}: \\tDecreased by {abs(improvement):.4f} from {initial_score:.4f} to {current_score:.4f}\")\n",
        "    else:\n",
        "        print(f\"{model}: \\tNo change, remained at {current_score:.4f}\")\n",
        "\n",
        "# Model selection based on F1-score\n",
        "best_model_name, best_f1_score = max(current_f1_scores.items(), key=lambda x: x[1])\n",
        "\n",
        "# Print the best model with a highlighted message\n",
        "print(\"\\n\" + \"=\"*40)\n",
        "print(f\"\\033[1mThe best model based on F1-score is: {best_model_name} with F1-score: {best_f1_score:.4f}\\033[0m\")\n",
        "print(\"=\"*40)\n"
      ],
      "metadata": {
        "colab": {
          "base_uri": "https://localhost:8080/"
        },
        "id": "JCpBQJVEFgQ6",
        "outputId": "30f73e59-c3bd-4de5-ae65-ef97d81b30b4"
      },
      "execution_count": 141,
      "outputs": [
        {
          "output_type": "stream",
          "name": "stdout",
          "text": [
            "\n",
            "========================================\n",
            "Model F1-scores Comparison\n",
            "========================================\n",
            "SVM:          \t0.9930\n",
            "Naive Bayes:  \t0.9722\n",
            "Random Forest:\t0.9790\n",
            "CatBoost:     \t0.9790\n",
            "LightGBM:     \t0.9790\n",
            "XGBoost:      \t0.9722\n",
            "\n",
            "========================================\n",
            "F1-score Improvement Comparison\n",
            "========================================\n",
            "SVM: \tImproved by 0.0069 from 0.9861 to 0.9930\n",
            "Naive Bayes: \tImproved by 0.0000 from 0.9722 to 0.9722\n",
            "Random Forest: \tImproved by 0.0068 from 0.9722 to 0.9790\n",
            "CatBoost: \tImproved by 0.0000 from 0.9790 to 0.9790\n",
            "LightGBM: \tImproved by 0.0068 from 0.9722 to 0.9790\n",
            "XGBoost: \tImproved by 0.0072 from 0.9650 to 0.9722\n",
            "\n",
            "========================================\n",
            "\u001b[1mThe best model based on F1-score is: SVM with F1-score: 0.9930\u001b[0m\n",
            "========================================\n"
          ]
        }
      ]
    }
  ]
}